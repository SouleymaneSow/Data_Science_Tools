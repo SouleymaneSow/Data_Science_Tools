{
 "cells": [
  {
   "cell_type": "markdown",
   "id": "a4702f32-c8a4-46ac-bd74-ad9fe9b7be28",
   "metadata": {},
   "source": [
    "### <h1>Python Packages Made For Data Science Teams</h1>"
   ]
  },
  {
   "cell_type": "markdown",
   "id": "5093a1f3-3ca8-407d-92fa-ca4230dae06e",
   "metadata": {},
   "source": [
    "### I was inspired by this article from medium about the Mito package: <a href=\"https://jjdiamondreivich.medium.com/\">Mito</a>"
   ]
  },
  {
   "cell_type": "markdown",
   "id": "03d4d4b9-c8c7-427e-9d62-ac7ddd97339f",
   "metadata": {},
   "source": [
    " **Mito**\n",
    " - Mito is a spreadsheet interface for python. Many data science teams work with stakeholders who are more used to using Excel.\n",
    " - Mito allows users to calla **spreadsheet** into their jupyter environment, each edit they make in the spreadsheet will generate the equivalent python in the code cell below.\n",
    " - Mito is not only powerful for excel users to contribue to data science team, it also great tool for python users.\n",
    " - Mito is faster way to generate code than typing it by hand."
   ]
  },
  {
   "cell_type": "markdown",
   "id": "aaa60137-8cd7-48cc-b105-b0e5839d98a9",
   "metadata": {},
   "source": [
    "**How to install Mito**:\n",
    " - First open a new terminal or command prompt. Then download the mito installer\n",
    "   - **python -m pip install mitoinstaller**\n",
    " - Then run the installer. This comman may take a few moments to run\n",
    "   - **python -m mitoinstaller install**\n",
    " - Finally launch jupyterlab:\n",
    "   - **python -m jupyter lab**"
   ]
  },
  {
   "cell_type": "markdown",
   "id": "4636eb72-ab6d-43cf-9125-0b57fe189c28",
   "metadata": {},
   "source": [
    "**Import dataframes**"
   ]
  },
  {
   "cell_type": "code",
   "execution_count": 2,
   "id": "ac5b4615-38b7-4d64-9ce2-c0a3cae65967",
   "metadata": {},
   "outputs": [
    {
     "data": {
      "application/vnd.jupyter.widget-view+json": {
       "model_id": "5725ba7ba15e43f7940c203acae2526b",
       "version_major": 2,
       "version_minor": 0
      },
      "text/plain": [
       "MitoWidget(analysis_name='UUID-ea9e68de-2f2c-4dbf-8dbb-c195c5fad73a', code_json='{\"imports\": \"from mitosheet i…"
      ]
     },
     "metadata": {},
     "output_type": "display_data"
    }
   ],
   "source": [
    "# To open the mitosheet run this cell to render a mitosheet\n",
    "# See mito's documentation here: https://docs.trymito.io/how-to/creating-a-mitosheet\n",
    "# Join our Discord for support here: https://discord.gg/XdJSZyejJU\n",
    "\n",
    "import mitosheet\n",
    "mitosheet.sheet()"
   ]
  },
  {
   "cell_type": "code",
   "execution_count": 5,
   "id": "bb700e6d-4b17-43e5-ab9d-def505f3d689",
   "metadata": {},
   "outputs": [],
   "source": [
    "# MITO CODE START (DO NOT EDIT)\n",
    "\n",
    "from mitosheet import * # Import necessary functions from Mito\n",
    "register_analysis('UUID-ea9e68de-2f2c-4dbf-8dbb-c195c5fad73a') # Let Mito know which analysis is being run\n",
    "\n",
    "# Imported C:\\Users\\jules\\Downloads\\data_generate.csv\n",
    "import pandas as pd\n",
    "data_generate_csv = pd.read_csv(r'C:\\Users\\jules\\Downloads\\data_generate.csv')\n",
    "\n",
    "# Sorted id_parcours in data_generate_csv in ascending order\n",
    "data_generate_csv = data_generate_csv.sort_values(by='id_parcours', ascending=True, na_position='first')\n",
    "\n",
    "# Pivoted data_generate_csv into df2\n",
    "df2 = pd.DataFrame(data={})\n",
    "\n",
    "# Pivoted data_generate_csv into df3\n",
    "unused_columns = data_generate_csv.columns.difference(set(['Modèle_véhicule']).union(set(['Type_sinistre'])).union(set({'Sinistre'})))\n",
    "tmp_df = data_generate_csv.drop(unused_columns, axis=1)\n",
    "pivot_table = tmp_df.pivot_table(\n",
    "    index=['Modèle_véhicule'],\n",
    "    columns=['Type_sinistre'],\n",
    "    values=['Sinistre'],\n",
    "    aggfunc={'Sinistre': ['count']}\n",
    ")\n",
    "\n",
    "# Flatten the column headers\n",
    "pivot_table.columns = [flatten_column_header(col) for col in pivot_table.columns.values]\n",
    "\n",
    "# Reset the column name and the indexes\n",
    "df3 = pivot_table.reset_index()\n",
    "\n",
    "  \n",
    "# MITO CODE END (DO NOT EDIT)"
   ]
  },
  {
   "cell_type": "code",
   "execution_count": 7,
   "id": "cea3fb69-00fa-4a95-b188-ee13e0f4018a",
   "metadata": {},
   "outputs": [
    {
     "data": {
      "text/html": [
       "<div>\n",
       "<style scoped>\n",
       "    .dataframe tbody tr th:only-of-type {\n",
       "        vertical-align: middle;\n",
       "    }\n",
       "\n",
       "    .dataframe tbody tr th {\n",
       "        vertical-align: top;\n",
       "    }\n",
       "\n",
       "    .dataframe thead th {\n",
       "        text-align: right;\n",
       "    }\n",
       "</style>\n",
       "<table border=\"1\" class=\"dataframe\">\n",
       "  <thead>\n",
       "    <tr style=\"text-align: right;\">\n",
       "      <th></th>\n",
       "      <th>Modèle_véhicule</th>\n",
       "      <th>Sinistre count NON RESPONSABLE</th>\n",
       "      <th>Sinistre count RESPONSABLE</th>\n",
       "    </tr>\n",
       "  </thead>\n",
       "  <tbody>\n",
       "    <tr>\n",
       "      <th>0</th>\n",
       "      <td>Audi</td>\n",
       "      <td>58</td>\n",
       "      <td>62</td>\n",
       "    </tr>\n",
       "    <tr>\n",
       "      <th>1</th>\n",
       "      <td>Dacia</td>\n",
       "      <td>73</td>\n",
       "      <td>72</td>\n",
       "    </tr>\n",
       "    <tr>\n",
       "      <th>2</th>\n",
       "      <td>Fiat</td>\n",
       "      <td>82</td>\n",
       "      <td>54</td>\n",
       "    </tr>\n",
       "    <tr>\n",
       "      <th>3</th>\n",
       "      <td>Honda</td>\n",
       "      <td>54</td>\n",
       "      <td>46</td>\n",
       "    </tr>\n",
       "    <tr>\n",
       "      <th>4</th>\n",
       "      <td>Hyundai</td>\n",
       "      <td>63</td>\n",
       "      <td>69</td>\n",
       "    </tr>\n",
       "    <tr>\n",
       "      <th>5</th>\n",
       "      <td>Kia</td>\n",
       "      <td>69</td>\n",
       "      <td>57</td>\n",
       "    </tr>\n",
       "    <tr>\n",
       "      <th>6</th>\n",
       "      <td>Mazda</td>\n",
       "      <td>47</td>\n",
       "      <td>66</td>\n",
       "    </tr>\n",
       "    <tr>\n",
       "      <th>7</th>\n",
       "      <td>Tesla</td>\n",
       "      <td>58</td>\n",
       "      <td>70</td>\n",
       "    </tr>\n",
       "  </tbody>\n",
       "</table>\n",
       "</div>"
      ],
      "text/plain": [
       "  Modèle_véhicule  Sinistre count NON RESPONSABLE  Sinistre count RESPONSABLE\n",
       "0            Audi                              58                          62\n",
       "1           Dacia                              73                          72\n",
       "2            Fiat                              82                          54\n",
       "3           Honda                              54                          46\n",
       "4         Hyundai                              63                          69\n",
       "5             Kia                              69                          57\n",
       "6           Mazda                              47                          66\n",
       "7           Tesla                              58                          70"
      ]
     },
     "execution_count": 7,
     "metadata": {},
     "output_type": "execute_result"
    }
   ],
   "source": [
    "df3"
   ]
  },
  {
   "cell_type": "markdown",
   "id": "6e96e596-5762-444f-b322-7a8faaca4357",
   "metadata": {},
   "source": [
    "- Mito allows you to do Full EDA and Data Analysis in a visual environment.\n",
    "- With Mito you can:\n",
    "     - **Merge datasets**\n",
    "     - **Add columns**\n",
    "     - **Create graphs**\n",
    "     - **Pivot**\n",
    "     - ..."
   ]
  },
  {
   "cell_type": "markdown",
   "id": "8704e9a9-d243-487f-8702-02d1b4c2d6e6",
   "metadata": {},
   "source": [
    "### 5 Tools every Data Scientist should use:\n",
    "  - **Pandas** \n",
    "  - **Mito** ( is a spreadsheet that generates python. You get to feel like you are working in Excel or Google Sheets an each edit you make generates the equivalent python).\n",
    "  - **Tensorflow** (Build neural networks, Design recommendation systems, Create adversarial networks).\n",
    "  - **BeautifulSoup** (Beautiful soup is a Python package that allows for easy data extraction from html and xml formats — this essentially means web-scraping).\n",
    "  - **Matplotlib** (Matplotlib is one of Python’s best graphing packages. You can make simple visual representations as well as more advanced, interactive graphics)."
   ]
  },
  {
   "cell_type": "markdown",
   "id": "64c0f10b-2054-4438-b4f4-161d24115ede",
   "metadata": {},
   "source": [
    "### 9 fonctions that spreed your EDA process:\n",
    "  - **df.info()**\n",
    "  - **df.duplicate().sum()**\n",
    "  - **df['nom_colonne'].unique()**\n",
    "  - **df['nom_colonne'].value_counts()**\n",
    "  - **df.isnull().sum()** (find all the null values of the data)\n",
    "  - **df.replace(np.nan,\"0\",inplace= True)**\n",
    "  - **df1 = df[df[\"nom_colonne\"]>100]**\n",
    "  - **df.boxplot() or df['nom_colonne'].boxplot()**\n",
    "  - **df.corr()**"
   ]
  }
 ],
 "metadata": {
  "kernelspec": {
   "display_name": "Python 3",
   "language": "python",
   "name": "python3"
  },
  "language_info": {
   "codemirror_mode": {
    "name": "ipython",
    "version": 3
   },
   "file_extension": ".py",
   "mimetype": "text/x-python",
   "name": "python",
   "nbconvert_exporter": "python",
   "pygments_lexer": "ipython3",
   "version": "3.8.8"
  },
  "widgets": {
   "application/vnd.jupyter.widget-state+json": {
    "state": {},
    "version_major": 2,
    "version_minor": 0
   }
  }
 },
 "nbformat": 4,
 "nbformat_minor": 5
}
